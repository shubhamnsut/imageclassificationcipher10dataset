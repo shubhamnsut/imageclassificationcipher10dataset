{
 "cells": [
  {
   "cell_type": "markdown",
   "id": "83112841",
   "metadata": {},
   "source": [
    "# "
   ]
  },
  {
   "cell_type": "markdown",
   "id": "79284320",
   "metadata": {},
   "source": [
    "# Image Classification using Multi Layer Perceptron And  Convolutional Neural Network for the cifar10 Dataset"
   ]
  },
  {
   "cell_type": "code",
   "execution_count": 1,
   "id": "4aa73835",
   "metadata": {},
   "outputs": [],
   "source": [
    "import tensorflow as tf"
   ]
  },
  {
   "cell_type": "code",
   "execution_count": 2,
   "id": "751541e7",
   "metadata": {},
   "outputs": [],
   "source": [
    "from tensorflow.keras import datasets, layers, models\n",
    "import matplotlib.pyplot as plt\n",
    "import numpy as np"
   ]
  },
  {
   "cell_type": "markdown",
   "id": "602277a2",
   "metadata": {},
   "source": [
    "# Loading the dataset\n"
   ]
  },
  {
   "cell_type": "code",
   "execution_count": 3,
   "id": "e1191fb0",
   "metadata": {},
   "outputs": [
    {
     "data": {
      "text/plain": [
       "(50000, 32, 32, 3)"
      ]
     },
     "execution_count": 3,
     "metadata": {},
     "output_type": "execute_result"
    }
   ],
   "source": [
    "(X_train, y_train), (X_test,y_test) = datasets.cifar10.load_data()\n",
    "X_train.shape"
   ]
  },
  {
   "cell_type": "code",
   "execution_count": 4,
   "id": "df91bc3e",
   "metadata": {},
   "outputs": [
    {
     "data": {
      "text/plain": [
       "(10000, 32, 32, 3)"
      ]
     },
     "execution_count": 4,
     "metadata": {},
     "output_type": "execute_result"
    }
   ],
   "source": [
    "X_test.shape"
   ]
  },
  {
   "cell_type": "code",
   "execution_count": 5,
   "id": "1ccf7b3a",
   "metadata": {},
   "outputs": [
    {
     "data": {
      "text/plain": [
       "(50000, 1)"
      ]
     },
     "execution_count": 5,
     "metadata": {},
     "output_type": "execute_result"
    }
   ],
   "source": [
    "y_train.shape"
   ]
  },
  {
   "cell_type": "code",
   "execution_count": 6,
   "id": "287019fa",
   "metadata": {},
   "outputs": [
    {
     "data": {
      "text/plain": [
       "array([[6],\n",
       "       [9],\n",
       "       [9],\n",
       "       [4],\n",
       "       [1],\n",
       "       [1],\n",
       "       [2],\n",
       "       [7],\n",
       "       [8],\n",
       "       [3]], dtype=uint8)"
      ]
     },
     "execution_count": 6,
     "metadata": {},
     "output_type": "execute_result"
    }
   ],
   "source": [
    "y_train[:10]"
   ]
  },
  {
   "cell_type": "code",
   "execution_count": 7,
   "id": "c3e8eacb",
   "metadata": {},
   "outputs": [
    {
     "data": {
      "text/plain": [
       "array([6, 9, 9, 4, 1], dtype=uint8)"
      ]
     },
     "execution_count": 7,
     "metadata": {},
     "output_type": "execute_result"
    }
   ],
   "source": [
    "y_train = y_train.reshape(-1,)\n",
    "y_train[:5]"
   ]
  },
  {
   "cell_type": "code",
   "execution_count": 8,
   "id": "a15c6951",
   "metadata": {},
   "outputs": [],
   "source": [
    "y_test = y_test.reshape(-1,)"
   ]
  },
  {
   "cell_type": "code",
   "execution_count": 9,
   "id": "03a131fc",
   "metadata": {},
   "outputs": [],
   "source": [
    "classes = [\"airplane\",\"automobile\",\"bird\",\"cat\",\"deer\",\"dog\",\"frog\",\"horse\",\"ship\",\"truck\"]"
   ]
  },
  {
   "cell_type": "code",
   "execution_count": 10,
   "id": "cace7d16",
   "metadata": {},
   "outputs": [],
   "source": [
    "def plot_sample(X, y, index):\n",
    "    plt.figure(figsize = (15,2))\n",
    "    plt.imshow(X[index])\n",
    "    plt.xlabel(classes[y[index]])"
   ]
  },
  {
   "cell_type": "code",
   "execution_count": 11,
   "id": "723b145b",
   "metadata": {},
   "outputs": [
    {
     "data": {
      "image/png": "[encoded data removed]",
      "text/plain": [
       "<Figure size 1080x144 with 1 Axes>"
      ]
     },
     "metadata": {
      "needs_background": "light"
     },
     "output_type": "display_data"
    }
   ],
   "source": [
    "plot_sample(X_train, y_train, 4)"
   ]
  },
  {
   "cell_type": "code",
   "execution_count": 12,
   "id": "f8272a7e",
   "metadata": {},
   "outputs": [
    {
     "data": {
      "image/png": "[encoded data removed]",
      "text/plain": [
       "<Figure size 1080x144 with 1 Axes>"
      ]
     },
     "metadata": {
      "needs_background": "light"
     },
     "output_type": "display_data"
    }
   ],
   "source": [
    "plot_sample(X_train, y_train, 1)"
   ]
  },
  {
   "cell_type": "markdown",
   "id": "62a857d5",
   "metadata": {},
   "source": [
    "Normalize the images to a number from 0 to 1. Image has 3 channels (R,G,B) and each value in the channel can range from 0 to 255. Hence to normalize in 0-->1 range, we need to divide it by 255"
   ]
  },
  {
   "cell_type": "markdown",
   "id": "6aae3178",
   "metadata": {},
   "source": [
    "# Normalizing the training data"
   ]
  },
  {
   "cell_type": "code",
   "execution_count": 13,
   "id": "f62cef7b",
   "metadata": {},
   "outputs": [],
   "source": [
    "X_train = X_train / 255.0\n",
    "X_test = X_test / 255.0"
   ]
  },
  {
   "cell_type": "markdown",
   "id": "c3972286",
   "metadata": {},
   "source": [
    "# Single Layer perceptron for image classification "
   ]
  },
  {
   "cell_type": "code",
   "execution_count": 14,
   "id": "07b9b0b8",
   "metadata": {},
   "outputs": [
    {
     "name": "stdout",
     "output_type": "stream",
     "text": [
      "Epoch 1/10\n",
      "1563/1563 [==============================] - 3s 2ms/step - loss: 1.9452 - accuracy: 0.3055\n",
      "Epoch 2/10\n",
      "1563/1563 [==============================] - 2s 1ms/step - loss: 1.8408 - accuracy: 0.3517\n",
      "Epoch 3/10\n",
      "1563/1563 [==============================] - 2s 1ms/step - loss: 1.8163 - accuracy: 0.3641\n",
      "Epoch 4/10\n",
      "1563/1563 [==============================] - 2s 1ms/step - loss: 1.7954 - accuracy: 0.3731\n",
      "Epoch 5/10\n",
      "1563/1563 [==============================] - 2s 1ms/step - loss: 1.7834 - accuracy: 0.3793\n",
      "Epoch 6/10\n",
      "1563/1563 [==============================] - 2s 1ms/step - loss: 1.7744 - accuracy: 0.3840\n",
      "Epoch 7/10\n",
      "1563/1563 [==============================] - 2s 1ms/step - loss: 1.7656 - accuracy: 0.3857: 0s - loss: 1.7653 - accuracy: 0.38\n",
      "Epoch 8/10\n",
      "1563/1563 [==============================] - 2s 1ms/step - loss: 1.7567 - accuracy: 0.3911\n",
      "Epoch 9/10\n",
      "1563/1563 [==============================] - 2s 1ms/step - loss: 1.7509 - accuracy: 0.3914: 1s - loss: 1.7391 - ac\n",
      "Epoch 10/10\n",
      "1563/1563 [==============================] - 2s 1ms/step - loss: 1.7505 - accuracy: 0.3910\n"
     ]
    },
    {
     "data": {
      "text/plain": [
       "<keras.callbacks.History at 0x1f83b070ac0>"
      ]
     },
     "execution_count": 14,
     "metadata": {},
     "output_type": "execute_result"
    }
   ],
   "source": [
    "ann = models.Sequential([\n",
    "        layers.Flatten(input_shape=(32,32,3)),\n",
    "        layers.Dense(10, activation='sigmoid')    \n",
    "    ])\n",
    "\n",
    "ann.compile(optimizer='SGD',\n",
    "              loss='sparse_categorical_crossentropy',\n",
    "              metrics=['accuracy'])\n",
    "\n",
    "ann.fit(X_train, y_train, epochs=10)"
   ]
  },
  {
   "cell_type": "markdown",
   "id": "a12c1df0",
   "metadata": {},
   "source": [
    "# Multilayer Perceptron for image classification"
   ]
  },
  {
   "cell_type": "code",
   "execution_count": 28,
   "id": "40a8117f",
   "metadata": {},
   "outputs": [
    {
     "name": "stdout",
     "output_type": "stream",
     "text": [
      "Epoch 1/5\n",
      "1563/1563 [==============================] - 94s 60ms/step - loss: nan - accuracy: 0.1000\n",
      "Epoch 2/5\n",
      "1563/1563 [==============================] - 93s 60ms/step - loss: nan - accuracy: 0.1000\n",
      "Epoch 3/5\n",
      "1563/1563 [==============================] - 100s 64ms/step - loss: nan - accuracy: 0.1000\n",
      "Epoch 4/5\n",
      "1563/1563 [==============================] - 94s 60ms/step - loss: nan - accuracy: 0.1000\n",
      "Epoch 5/5\n",
      "1563/1563 [==============================] - 87s 56ms/step - loss: nan - accuracy: 0.1000\n"
     ]
    },
    {
     "data": {
      "text/plain": [
       "<keras.callbacks.History at 0x15e7901adc0>"
      ]
     },
     "execution_count": 28,
     "metadata": {},
     "output_type": "execute_result"
    }
   ],
   "source": [
    "ann = models.Sequential([\n",
    "        layers.Flatten(input_shape=(32,32,3)),\n",
    "        layers.Dense(3000, activation='relu'),\n",
    "        layers.Dense(1000, activation='relu'),\n",
    "        layers.Dense(10, activation='sigmoid')    \n",
    "    ])\n",
    "\n",
    "ann.compile(optimizer='SGD',\n",
    "              loss='sparse_categorical_crossentropy',\n",
    "              metrics=['accuracy'])\n",
    "\n",
    "ann.fit(X_train, y_train, epochs=5)"
   ]
  },
  {
   "cell_type": "markdown",
   "id": "03662a5c",
   "metadata": {},
   "source": [
    "We can see that at the end of 5 epochs, accuracy is at around 10%\n"
   ]
  },
  {
   "cell_type": "markdown",
   "id": "0eee59f2",
   "metadata": {},
   "source": [
    "# Convolutional neural network to train our images"
   ]
  },
  {
   "cell_type": "code",
   "execution_count": 21,
   "id": "76e2b080",
   "metadata": {},
   "outputs": [],
   "source": [
    "cnn = models.Sequential([\n",
    "    layers.Conv2D(filters=32, kernel_size=(3, 3), activation='relu', input_shape=(32, 32, 3)),\n",
    "    layers.MaxPooling2D((2, 2)),\n",
    "    \n",
    "    layers.Conv2D(filters=64, kernel_size=(3, 3), activation='relu'),\n",
    "    layers.MaxPooling2D((2, 2)),\n",
    "    \n",
    "    layers.Flatten(),\n",
    "    layers.Dense(64, activation='relu'),\n",
    "    layers.Dense(10, activation='sigmoid')\n",
    "])"
   ]
  },
  {
   "cell_type": "code",
   "execution_count": 22,
   "id": "bcc8be82",
   "metadata": {},
   "outputs": [],
   "source": [
    "cnn.compile(optimizer='adam',\n",
    "              loss='sparse_categorical_crossentropy',\n",
    "              metrics=['accuracy'])"
   ]
  },
  {
   "cell_type": "code",
   "execution_count": 23,
   "id": "bd755960",
   "metadata": {},
   "outputs": [
    {
     "name": "stdout",
     "output_type": "stream",
     "text": [
      "Epoch 1/10\n",
      "1563/1563 [==============================] - 33s 21ms/step - loss: 1.4497 - accuracy: 0.4808\n",
      "Epoch 2/10\n",
      "1563/1563 [==============================] - 33s 21ms/step - loss: 1.1083 - accuracy: 0.6099\n",
      "Epoch 3/10\n",
      "1563/1563 [==============================] - 33s 21ms/step - loss: 0.9652 - accuracy: 0.6626\n",
      "Epoch 4/10\n",
      "1563/1563 [==============================] - 33s 21ms/step - loss: 0.8790 - accuracy: 0.6939\n",
      "Epoch 5/10\n",
      "1563/1563 [==============================] - 33s 21ms/step - loss: 0.8102 - accuracy: 0.7180\n",
      "Epoch 6/10\n",
      "1563/1563 [==============================] - 32s 21ms/step - loss: 0.7537 - accuracy: 0.7377\n",
      "Epoch 7/10\n",
      "1563/1563 [==============================] - 36s 23ms/step - loss: 0.7016 - accuracy: 0.7553\n",
      "Epoch 8/10\n",
      "1563/1563 [==============================] - 34s 22ms/step - loss: 0.6572 - accuracy: 0.7711\n",
      "Epoch 9/10\n",
      "1563/1563 [==============================] - 33s 21ms/step - loss: 0.6193 - accuracy: 0.7841\n",
      "Epoch 10/10\n",
      "1563/1563 [==============================] - 34s 22ms/step - loss: 0.5790 - accuracy: 0.8001\n"
     ]
    },
    {
     "data": {
      "text/plain": [
       "<keras.callbacks.History at 0x287829836d0>"
      ]
     },
     "execution_count": 23,
     "metadata": {},
     "output_type": "execute_result"
    }
   ],
   "source": [
    "cnn.fit(X_train, y_train, epochs=10)"
   ]
  },
  {
   "cell_type": "markdown",
   "id": "f53027c5",
   "metadata": {},
   "source": [
    "# With CNN, at the end 10 epochs, accuracy was at 80% which is a significant improvement over ANN. CNN's are best for image classification and gives more accuracy. Also computation is much less compared to simple ANN as maxpooling reduces the image dimensions while still preserving the features"
   ]
  },
  {
   "cell_type": "code",
   "execution_count": 24,
   "id": "00742f64",
   "metadata": {},
   "outputs": [
    {
     "name": "stdout",
     "output_type": "stream",
     "text": [
      "313/313 [==============================] - 2s 6ms/step - loss: 0.9289 - accuracy: 0.6992\n"
     ]
    },
    {
     "data": {
      "text/plain": [
       "[0.9288610219955444, 0.6991999745368958]"
      ]
     },
     "execution_count": 24,
     "metadata": {},
     "output_type": "execute_result"
    }
   ],
   "source": [
    "cnn.evaluate(X_test,y_test)"
   ]
  },
  {
   "cell_type": "code",
   "execution_count": 25,
   "id": "aa557527",
   "metadata": {},
   "outputs": [
    {
     "data": {
      "text/plain": [
       "array([[3.7470073e-02, 3.9148033e-03, 5.3888291e-02, 9.9625146e-01,\n",
       "        1.7496347e-03, 9.3855047e-01, 6.7189491e-01, 5.1077008e-03,\n",
       "        7.6904398e-01, 5.1965982e-01],\n",
       "       [9.0654480e-01, 9.9967158e-01, 6.7752600e-04, 7.5225800e-02,\n",
       "        3.3173543e-05, 5.7494640e-04, 6.8874127e-05, 7.3974559e-05,\n",
       "        9.9992800e-01, 9.0504140e-01],\n",
       "       [6.9067144e-01, 9.8632723e-01, 6.1923563e-03, 5.4796028e-01,\n",
       "        2.0572543e-04, 1.1486232e-02, 4.5364499e-03, 4.0185809e-02,\n",
       "        9.8875940e-01, 9.0010989e-01],\n",
       "       [9.7134554e-01, 8.9043069e-01, 6.9998443e-02, 2.1667886e-01,\n",
       "        1.5295237e-02, 1.4735162e-03, 6.1624944e-03, 7.1006715e-03,\n",
       "        9.9494600e-01, 2.7806619e-01],\n",
       "       [2.9118925e-02, 6.1491817e-02, 9.2966735e-01, 9.6277082e-01,\n",
       "        9.9400377e-01, 4.6179703e-01, 9.8537511e-01, 2.3815006e-02,\n",
       "        1.4511585e-02, 7.2000623e-03]], dtype=float32)"
      ]
     },
     "execution_count": 25,
     "metadata": {},
     "output_type": "execute_result"
    }
   ],
   "source": [
    "y_pred = cnn.predict(X_test)\n",
    "y_pred[:5]"
   ]
  },
  {
   "cell_type": "code",
   "execution_count": 34,
   "id": "c1327d29",
   "metadata": {},
   "outputs": [
    {
     "data": {
      "image/png": "[encoded data removed]",
      "text/plain": [
       "<Figure size 1080x144 with 1 Axes>"
      ]
     },
     "metadata": {
      "needs_background": "light"
     },
     "output_type": "display_data"
    }
   ],
   "source": [
    "plot_sample(X_test, y_test,54)"
   ]
  },
  {
   "cell_type": "code",
   "execution_count": null,
   "id": "3ef430bc",
   "metadata": {},
   "outputs": [],
   "source": []
  }
 ],
 "metadata": {
  "kernelspec": {
   "display_name": "Python 3 (ipykernel)",
   "language": "python",
   "name": "python3"
  },
  "language_info": {
   "codemirror_mode": {
    "name": "ipython",
    "version": 3
   },
   "file_extension": ".py",
   "mimetype": "text/x-python",
   "name": "python",
   "nbconvert_exporter": "python",
   "pygments_lexer": "ipython3",
   "version": "3.9.7"
  }
 },
 "nbformat": 4,
 "nbformat_minor": 5
}
